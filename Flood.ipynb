{
  "nbformat": 4,
  "nbformat_minor": 0,
  "metadata": {
    "colab": {
      "provenance": [],
      "gpuType": "T4"
    },
    "kernelspec": {
      "name": "python3",
      "display_name": "Python 3"
    },
    "language_info": {
      "name": "python"
    }
  },
  "cells": [
    {
      "cell_type": "code",
      "source": [
        "import pandas as pd\n",
        "import numpy as np\n",
        "import seaborn as sns\n",
        "import matplotlib.pyplot as plt\n",
        "from sklearn.model_selection import train_test_split\n",
        "from sklearn.preprocessing import StandardScaler\n",
        "from sklearn.metrics import confusion_matrix, precision_score, recall_score, f1_score, classification_report\n",
        "from tensorflow.keras.models import Sequential\n",
        "from tensorflow.keras.layers import Dense\n",
        "from imblearn.over_sampling import SMOTE\n",
        "import tensorflow as tf\n",
        "from google.colab import drive"
      ],
      "metadata": {
        "id": "u1NMHunRTTgK"
      },
      "execution_count": null,
      "outputs": []
    },
    {
      "cell_type": "code",
      "source": [
        "# Mount Google Drive\n",
        "drive.mount('/content/gdrive', force_remount=True)"
      ],
      "metadata": {
        "colab": {
          "base_uri": "https://localhost:8080/"
        },
        "id": "iGfLq2DaTZLH",
        "outputId": "7068cc5d-9c0f-40ec-e0a8-5f0cdf04822c"
      },
      "execution_count": null,
      "outputs": [
        {
          "output_type": "stream",
          "name": "stdout",
          "text": [
            "Mounted at /content/gdrive\n"
          ]
        }
      ]
    },
    {
      "cell_type": "code",
      "source": [
        "# Access the dataset from Google Drive\n",
        "train_data_path = '/content/gdrive/MyDrive/fyp Flood /Flood Dataset-20240206T152545Z-001/Flood Dataset/train_data.csv'\n",
        "test_data_path = '/content/gdrive/MyDrive/fyp Flood /Flood Dataset-20240206T152545Z-001/Flood Dataset/test_data.csv'\n",
        "\n",
        "# Load the data into DataFrames\n",
        "train_data = pd.read_csv(train_data_path)\n",
        "test_data = pd.read_csv(test_data_path)"
      ],
      "metadata": {
        "id": "yvSlc3bLTncy"
      },
      "execution_count": null,
      "outputs": []
    },
    {
      "cell_type": "code",
      "source": [
        "# Split the data into features and target variable\n",
        "X_train = train_data.drop('Flood_Occurrence', axis=1)\n",
        "y_train = train_data['Flood_Occurrence']"
      ],
      "metadata": {
        "id": "BX7849qZT9Bx"
      },
      "execution_count": null,
      "outputs": []
    },
    {
      "cell_type": "code",
      "source": [
        "# Handle class imbalance using Synthetic Minority Over-sampling Technique (SMOTE)\n",
        "smote = SMOTE(random_state=42)\n",
        "X_train_resampled, y_train_resampled = smote.fit_resample(X_train, y_train)"
      ],
      "metadata": {
        "id": "x8DZkl_-T_U-"
      },
      "execution_count": null,
      "outputs": []
    },
    {
      "cell_type": "code",
      "source": [
        "# Standardize the features\n",
        "scaler = StandardScaler()\n",
        "X_train_scaled = scaler.fit_transform(X_train_resampled)"
      ],
      "metadata": {
        "id": "Kzaag2k2UEAH"
      },
      "execution_count": null,
      "outputs": []
    },
    {
      "cell_type": "code",
      "source": [
        "\n",
        "# Build a simple neural network model\n",
        "model = Sequential([\n",
        "    Dense(units=1, input_dim=X_train_scaled.shape[1], activation='sigmoid')\n",
        "])\n",
        "\n",
        "model.compile(optimizer='adam', loss='binary_crossentropy', metrics=['accuracy'])"
      ],
      "metadata": {
        "id": "BJT9VWU9UHwX"
      },
      "execution_count": null,
      "outputs": []
    },
    {
      "cell_type": "code",
      "source": [
        "# Train the model\n",
        "model.fit(X_train_scaled, y_train_resampled, epochs=100, batch_size=64)\n",
        "\n",
        "# Save the TensorFlow model\n",
        "model.save('/content/gdrive/MyDrive/fyp Flood /Flood Dataset-20240206T152545Z-001/Flood Dataset/neural_network_model.h5')\n"
      ],
      "metadata": {
        "colab": {
          "base_uri": "https://localhost:8080/"
        },
        "id": "x1lN3pdaUQDk",
        "outputId": "6ef23ce1-f37c-40d4-cdb1-c19a8212e819"
      },
      "execution_count": null,
      "outputs": [
        {
          "output_type": "stream",
          "name": "stdout",
          "text": [
            "Epoch 1/100\n",
            "18/18 [==============================] - 0s 2ms/step - loss: 0.3198 - accuracy: 0.8519\n",
            "Epoch 2/100\n",
            "18/18 [==============================] - 0s 3ms/step - loss: 0.3198 - accuracy: 0.8519\n",
            "Epoch 3/100\n",
            "18/18 [==============================] - 0s 2ms/step - loss: 0.3198 - accuracy: 0.8519\n",
            "Epoch 4/100\n",
            "18/18 [==============================] - 0s 2ms/step - loss: 0.3198 - accuracy: 0.8519\n",
            "Epoch 5/100\n",
            "18/18 [==============================] - 0s 2ms/step - loss: 0.3198 - accuracy: 0.8519\n",
            "Epoch 6/100\n",
            "18/18 [==============================] - 0s 2ms/step - loss: 0.3198 - accuracy: 0.8519\n",
            "Epoch 7/100\n",
            "18/18 [==============================] - 0s 2ms/step - loss: 0.3198 - accuracy: 0.8519\n",
            "Epoch 8/100\n",
            "18/18 [==============================] - 0s 2ms/step - loss: 0.3198 - accuracy: 0.8519\n",
            "Epoch 9/100\n",
            "18/18 [==============================] - 0s 2ms/step - loss: 0.3198 - accuracy: 0.8519\n",
            "Epoch 10/100\n",
            "18/18 [==============================] - 0s 2ms/step - loss: 0.3198 - accuracy: 0.8519\n",
            "Epoch 11/100\n",
            "18/18 [==============================] - 0s 2ms/step - loss: 0.3198 - accuracy: 0.8528\n",
            "Epoch 12/100\n",
            "18/18 [==============================] - 0s 2ms/step - loss: 0.3198 - accuracy: 0.8519\n",
            "Epoch 13/100\n",
            "18/18 [==============================] - 0s 2ms/step - loss: 0.3198 - accuracy: 0.8519\n",
            "Epoch 14/100\n",
            "18/18 [==============================] - 0s 2ms/step - loss: 0.3198 - accuracy: 0.8519\n",
            "Epoch 15/100\n",
            "18/18 [==============================] - 0s 2ms/step - loss: 0.3198 - accuracy: 0.8528\n",
            "Epoch 16/100\n",
            "18/18 [==============================] - 0s 2ms/step - loss: 0.3198 - accuracy: 0.8519\n",
            "Epoch 17/100\n",
            "18/18 [==============================] - 0s 2ms/step - loss: 0.3198 - accuracy: 0.8528\n",
            "Epoch 18/100\n",
            "18/18 [==============================] - 0s 2ms/step - loss: 0.3198 - accuracy: 0.8528\n",
            "Epoch 19/100\n",
            "18/18 [==============================] - 0s 2ms/step - loss: 0.3198 - accuracy: 0.8528\n",
            "Epoch 20/100\n",
            "18/18 [==============================] - 0s 2ms/step - loss: 0.3198 - accuracy: 0.8519\n",
            "Epoch 21/100\n",
            "18/18 [==============================] - 0s 2ms/step - loss: 0.3198 - accuracy: 0.8528\n",
            "Epoch 22/100\n",
            "18/18 [==============================] - 0s 2ms/step - loss: 0.3198 - accuracy: 0.8528\n",
            "Epoch 23/100\n",
            "18/18 [==============================] - 0s 2ms/step - loss: 0.3198 - accuracy: 0.8528\n",
            "Epoch 24/100\n",
            "18/18 [==============================] - 0s 2ms/step - loss: 0.3197 - accuracy: 0.8528\n",
            "Epoch 25/100\n",
            "18/18 [==============================] - 0s 2ms/step - loss: 0.3198 - accuracy: 0.8528\n",
            "Epoch 26/100\n",
            "18/18 [==============================] - 0s 2ms/step - loss: 0.3197 - accuracy: 0.8528\n",
            "Epoch 27/100\n",
            "18/18 [==============================] - 0s 3ms/step - loss: 0.3198 - accuracy: 0.8528\n",
            "Epoch 28/100\n",
            "18/18 [==============================] - 0s 2ms/step - loss: 0.3197 - accuracy: 0.8528\n",
            "Epoch 29/100\n",
            "18/18 [==============================] - 0s 2ms/step - loss: 0.3197 - accuracy: 0.8528\n",
            "Epoch 30/100\n",
            "18/18 [==============================] - 0s 2ms/step - loss: 0.3198 - accuracy: 0.8528\n",
            "Epoch 31/100\n",
            "18/18 [==============================] - 0s 2ms/step - loss: 0.3198 - accuracy: 0.8528\n",
            "Epoch 32/100\n",
            "18/18 [==============================] - 0s 2ms/step - loss: 0.3198 - accuracy: 0.8528\n",
            "Epoch 33/100\n",
            "18/18 [==============================] - 0s 2ms/step - loss: 0.3197 - accuracy: 0.8528\n",
            "Epoch 34/100\n",
            "18/18 [==============================] - 0s 2ms/step - loss: 0.3197 - accuracy: 0.8528\n",
            "Epoch 35/100\n",
            "18/18 [==============================] - 0s 2ms/step - loss: 0.3197 - accuracy: 0.8528\n",
            "Epoch 36/100\n",
            "18/18 [==============================] - 0s 2ms/step - loss: 0.3197 - accuracy: 0.8528\n",
            "Epoch 37/100\n",
            "18/18 [==============================] - 0s 2ms/step - loss: 0.3197 - accuracy: 0.8528\n",
            "Epoch 38/100\n",
            "18/18 [==============================] - 0s 2ms/step - loss: 0.3197 - accuracy: 0.8528\n",
            "Epoch 39/100\n",
            "18/18 [==============================] - 0s 2ms/step - loss: 0.3197 - accuracy: 0.8528\n",
            "Epoch 40/100\n",
            "18/18 [==============================] - 0s 2ms/step - loss: 0.3197 - accuracy: 0.8528\n",
            "Epoch 41/100\n",
            "18/18 [==============================] - 0s 2ms/step - loss: 0.3197 - accuracy: 0.8528\n",
            "Epoch 42/100\n",
            "18/18 [==============================] - 0s 2ms/step - loss: 0.3198 - accuracy: 0.8528\n",
            "Epoch 43/100\n",
            "18/18 [==============================] - 0s 2ms/step - loss: 0.3197 - accuracy: 0.8528\n",
            "Epoch 44/100\n",
            "18/18 [==============================] - 0s 2ms/step - loss: 0.3197 - accuracy: 0.8528\n",
            "Epoch 45/100\n",
            "18/18 [==============================] - 0s 2ms/step - loss: 0.3197 - accuracy: 0.8528\n",
            "Epoch 46/100\n",
            "18/18 [==============================] - 0s 2ms/step - loss: 0.3197 - accuracy: 0.8528\n",
            "Epoch 47/100\n",
            "18/18 [==============================] - 0s 2ms/step - loss: 0.3198 - accuracy: 0.8528\n",
            "Epoch 48/100\n",
            "18/18 [==============================] - 0s 2ms/step - loss: 0.3197 - accuracy: 0.8528\n",
            "Epoch 49/100\n",
            "18/18 [==============================] - 0s 2ms/step - loss: 0.3197 - accuracy: 0.8528\n",
            "Epoch 50/100\n",
            "18/18 [==============================] - 0s 2ms/step - loss: 0.3197 - accuracy: 0.8528\n",
            "Epoch 51/100\n",
            "18/18 [==============================] - 0s 2ms/step - loss: 0.3197 - accuracy: 0.8528\n",
            "Epoch 52/100\n",
            "18/18 [==============================] - 0s 2ms/step - loss: 0.3197 - accuracy: 0.8528\n",
            "Epoch 53/100\n",
            "18/18 [==============================] - 0s 2ms/step - loss: 0.3197 - accuracy: 0.8528\n",
            "Epoch 54/100\n",
            "18/18 [==============================] - 0s 2ms/step - loss: 0.3197 - accuracy: 0.8528\n",
            "Epoch 55/100\n",
            "18/18 [==============================] - 0s 2ms/step - loss: 0.3197 - accuracy: 0.8528\n",
            "Epoch 56/100\n",
            "18/18 [==============================] - 0s 3ms/step - loss: 0.3197 - accuracy: 0.8528\n",
            "Epoch 57/100\n",
            "18/18 [==============================] - 0s 3ms/step - loss: 0.3197 - accuracy: 0.8528\n",
            "Epoch 58/100\n",
            "18/18 [==============================] - 0s 2ms/step - loss: 0.3197 - accuracy: 0.8528\n",
            "Epoch 59/100\n",
            "18/18 [==============================] - 0s 3ms/step - loss: 0.3197 - accuracy: 0.8528\n",
            "Epoch 60/100\n",
            "18/18 [==============================] - 0s 3ms/step - loss: 0.3197 - accuracy: 0.8528\n",
            "Epoch 61/100\n",
            "18/18 [==============================] - 0s 3ms/step - loss: 0.3197 - accuracy: 0.8528\n",
            "Epoch 62/100\n",
            "18/18 [==============================] - 0s 3ms/step - loss: 0.3197 - accuracy: 0.8528\n",
            "Epoch 63/100\n",
            "18/18 [==============================] - 0s 2ms/step - loss: 0.3197 - accuracy: 0.8528\n",
            "Epoch 64/100\n",
            "18/18 [==============================] - 0s 3ms/step - loss: 0.3197 - accuracy: 0.8528\n",
            "Epoch 65/100\n",
            "18/18 [==============================] - 0s 2ms/step - loss: 0.3197 - accuracy: 0.8528\n",
            "Epoch 66/100\n",
            "18/18 [==============================] - 0s 3ms/step - loss: 0.3198 - accuracy: 0.8528\n",
            "Epoch 67/100\n",
            "18/18 [==============================] - 0s 2ms/step - loss: 0.3197 - accuracy: 0.8528\n",
            "Epoch 68/100\n",
            "18/18 [==============================] - 0s 3ms/step - loss: 0.3197 - accuracy: 0.8528\n",
            "Epoch 69/100\n",
            "18/18 [==============================] - 0s 3ms/step - loss: 0.3197 - accuracy: 0.8528\n",
            "Epoch 70/100\n",
            "18/18 [==============================] - 0s 3ms/step - loss: 0.3197 - accuracy: 0.8528\n",
            "Epoch 71/100\n",
            "18/18 [==============================] - 0s 3ms/step - loss: 0.3197 - accuracy: 0.8528\n",
            "Epoch 72/100\n",
            "18/18 [==============================] - 0s 3ms/step - loss: 0.3197 - accuracy: 0.8528\n",
            "Epoch 73/100\n",
            "18/18 [==============================] - 0s 4ms/step - loss: 0.3197 - accuracy: 0.8528\n",
            "Epoch 74/100\n",
            "18/18 [==============================] - 0s 4ms/step - loss: 0.3197 - accuracy: 0.8528\n",
            "Epoch 75/100\n",
            "18/18 [==============================] - 0s 3ms/step - loss: 0.3197 - accuracy: 0.8528\n",
            "Epoch 76/100\n",
            "18/18 [==============================] - 0s 2ms/step - loss: 0.3197 - accuracy: 0.8528\n",
            "Epoch 77/100\n",
            "18/18 [==============================] - 0s 2ms/step - loss: 0.3197 - accuracy: 0.8528\n",
            "Epoch 78/100\n",
            "18/18 [==============================] - 0s 2ms/step - loss: 0.3197 - accuracy: 0.8528\n",
            "Epoch 79/100\n",
            "18/18 [==============================] - 0s 3ms/step - loss: 0.3197 - accuracy: 0.8528\n",
            "Epoch 80/100\n",
            "18/18 [==============================] - 0s 3ms/step - loss: 0.3197 - accuracy: 0.8528\n",
            "Epoch 81/100\n",
            "18/18 [==============================] - 0s 3ms/step - loss: 0.3197 - accuracy: 0.8528\n",
            "Epoch 82/100\n",
            "18/18 [==============================] - 0s 3ms/step - loss: 0.3197 - accuracy: 0.8528\n",
            "Epoch 83/100\n",
            "18/18 [==============================] - 0s 3ms/step - loss: 0.3197 - accuracy: 0.8528\n",
            "Epoch 84/100\n",
            "18/18 [==============================] - 0s 3ms/step - loss: 0.3197 - accuracy: 0.8528\n",
            "Epoch 85/100\n",
            "18/18 [==============================] - 0s 2ms/step - loss: 0.3197 - accuracy: 0.8528\n",
            "Epoch 86/100\n",
            "18/18 [==============================] - 0s 3ms/step - loss: 0.3197 - accuracy: 0.8528\n",
            "Epoch 87/100\n",
            "18/18 [==============================] - 0s 2ms/step - loss: 0.3197 - accuracy: 0.8528\n",
            "Epoch 88/100\n",
            "18/18 [==============================] - 0s 4ms/step - loss: 0.3197 - accuracy: 0.8528\n",
            "Epoch 89/100\n",
            "18/18 [==============================] - 0s 3ms/step - loss: 0.3197 - accuracy: 0.8528\n",
            "Epoch 90/100\n",
            "18/18 [==============================] - 0s 3ms/step - loss: 0.3197 - accuracy: 0.8537\n",
            "Epoch 91/100\n",
            "18/18 [==============================] - 0s 4ms/step - loss: 0.3197 - accuracy: 0.8528\n",
            "Epoch 92/100\n",
            "18/18 [==============================] - 0s 3ms/step - loss: 0.3197 - accuracy: 0.8528\n",
            "Epoch 93/100\n",
            "18/18 [==============================] - 0s 3ms/step - loss: 0.3197 - accuracy: 0.8528\n",
            "Epoch 94/100\n",
            "18/18 [==============================] - 0s 3ms/step - loss: 0.3197 - accuracy: 0.8528\n",
            "Epoch 95/100\n",
            "18/18 [==============================] - 0s 3ms/step - loss: 0.3197 - accuracy: 0.8528\n",
            "Epoch 96/100\n",
            "18/18 [==============================] - 0s 3ms/step - loss: 0.3197 - accuracy: 0.8528\n",
            "Epoch 97/100\n",
            "18/18 [==============================] - 0s 3ms/step - loss: 0.3197 - accuracy: 0.8528\n",
            "Epoch 98/100\n",
            "18/18 [==============================] - 0s 3ms/step - loss: 0.3197 - accuracy: 0.8528\n",
            "Epoch 99/100\n",
            "18/18 [==============================] - 0s 3ms/step - loss: 0.3197 - accuracy: 0.8528\n",
            "Epoch 100/100\n",
            "18/18 [==============================] - 0s 2ms/step - loss: 0.3197 - accuracy: 0.8528\n"
          ]
        },
        {
          "output_type": "stream",
          "name": "stderr",
          "text": [
            "/usr/local/lib/python3.10/dist-packages/keras/src/engine/training.py:3103: UserWarning: You are saving your model as an HDF5 file via `model.save()`. This file format is considered legacy. We recommend using instead the native Keras format, e.g. `model.save('my_model.keras')`.\n",
            "  saving_api.save_model(\n"
          ]
        }
      ]
    },
    {
      "cell_type": "code",
      "source": [
        "# Convert the model to TensorFlow Lite format\n",
        "converter = tf.lite.TFLiteConverter.from_keras_model(model)\n",
        "tflite_model = converter.convert()\n",
        "\n",
        "# Save the TensorFlow Lite model to a file\n",
        "with open('/content/gdrive/MyDrive/fyp Flood /Flood Dataset-20240206T152545Z-001/Flood Dataset/neural_network_model.tflite', 'wb') as f:\n",
        "    f.write(tflite_model)"
      ],
      "metadata": {
        "id": "qbK4E-ivUcbg"
      },
      "execution_count": null,
      "outputs": []
    },
    {
      "cell_type": "code",
      "source": [
        "# Load the test data\n",
        "X_test = test_data.drop('Flood_Occurrence', axis=1)\n",
        "y_test = test_data['Flood_Occurrence']\n",
        "\n",
        "# Standardize the test features using the same scaler\n",
        "X_test_scaled = scaler.transform(X_test)\n",
        "\n",
        "# Evaluate the model on the test data\n",
        "test_loss, test_accuracy = model.evaluate(X_test_scaled, y_test)\n",
        "\n",
        "# Print the evaluation metrics\n",
        "print(\"Test Loss:\", test_loss)\n",
        "print(\"Test Accuracy:\", test_accuracy)"
      ],
      "metadata": {
        "colab": {
          "base_uri": "https://localhost:8080/"
        },
        "id": "uyTcHiStUnHa",
        "outputId": "553c747b-3802-4433-d9b7-7c54add85627"
      },
      "execution_count": null,
      "outputs": [
        {
          "output_type": "stream",
          "name": "stdout",
          "text": [
            "7/7 [==============================] - 0s 4ms/step - loss: 0.3615 - accuracy: 0.8200\n",
            "Test Loss: 0.3615292012691498\n",
            "Test Accuracy: 0.8199999928474426\n"
          ]
        }
      ]
    },
    {
      "cell_type": "code",
      "source": [
        "# Predict with the original model\n",
        "predictions = model.predict(X_test_scaled)\n",
        "\n",
        "# Convert the predictions to binary (0 or 1)\n",
        "binary_predictions = (predictions >= 0.5).astype(int)"
      ],
      "metadata": {
        "colab": {
          "base_uri": "https://localhost:8080/"
        },
        "id": "G1iMYntbVC3t",
        "outputId": "93014505-8f71-4d43-fe43-8f678b91f6a7"
      },
      "execution_count": null,
      "outputs": [
        {
          "output_type": "stream",
          "name": "stdout",
          "text": [
            "7/7 [==============================] - 0s 2ms/step\n"
          ]
        }
      ]
    },
    {
      "cell_type": "code",
      "source": [
        "# Calculate confusion matrix, precision, recall, and F1-score\n",
        "conf_matrix_test = confusion_matrix(y_test, binary_predictions)\n",
        "precision_test = precision_score(y_test, binary_predictions)\n",
        "recall_test = recall_score(y_test, binary_predictions)\n",
        "f1_test = f1_score(y_test, binary_predictions)\n",
        "\n",
        "\n",
        "\n",
        "# Plot the confusion matrix for test data\n",
        "plt.figure(figsize=(8, 6))\n",
        "sns.heatmap(conf_matrix_test, annot=True, fmt=\"d\", cmap=\"Blues\", xticklabels=[\"No Flood\", \"Flood\"], yticklabels=[\"No Flood\", \"Flood\"])\n",
        "plt.xlabel(\"Predicted\")\n",
        "plt.ylabel(\"True\")\n",
        "plt.title(\"Confusion Matrix - Test Data\")\n",
        "plt.show()\n"
      ],
      "metadata": {
        "colab": {
          "base_uri": "https://localhost:8080/",
          "height": 564
        },
        "id": "nKWXQNkWVOLX",
        "outputId": "06db8897-79bc-4044-d682-83570f057cca"
      },
      "execution_count": null,
      "outputs": [
        {
          "output_type": "display_data",
          "data": {
            "text/plain": [
              "<Figure size 800x600 with 2 Axes>"
            ],
            "image/png": "[encoded data removed]"
          },
          "metadata": {}
        }
      ]
    },
    {
      "cell_type": "code",
      "source": [
        "\n",
        "# Predict with the model on the train data\n",
        "predictions_train = model.predict(X_train_scaled)\n",
        "\n",
        "# Convert the predictions to binary (0 or 1)\n",
        "binary_predictions_train = (predictions_train >= 0.5).astype(int)\n",
        "\n",
        "# Calculate confusion matrix, precision, recall, and F1-score for train data\n",
        "conf_matrix_train = confusion_matrix(y_train_resampled, binary_predictions_train)\n",
        "precision_train = precision_score(y_train_resampled, binary_predictions_train)\n",
        "recall_train = recall_score(y_train_resampled, binary_predictions_train)\n",
        "f1_train = f1_score(y_train_resampled, binary_predictions_train)\n",
        "\n",
        "\n",
        "# Plot the confusion matrix for train data\n",
        "plt.figure(figsize=(8, 6))\n",
        "sns.heatmap(conf_matrix_train, annot=True, fmt=\"d\", cmap=\"Blues\", xticklabels=[\"No Flood\", \"Flood\"], yticklabels=[\"No Flood\", \"Flood\"])\n",
        "plt.xlabel(\"Predicted\")\n",
        "plt.ylabel(\"True\")\n",
        "plt.title(\"Confusion Matrix - Train Data\")\n",
        "plt.show()"
      ],
      "metadata": {
        "colab": {
          "base_uri": "https://localhost:8080/",
          "height": 581
        },
        "id": "hgoTKEBlVQxW",
        "outputId": "27faca8a-1e6b-44f2-d50d-4cb2859f8ccf"
      },
      "execution_count": null,
      "outputs": [
        {
          "output_type": "stream",
          "name": "stdout",
          "text": [
            "36/36 [==============================] - 0s 1ms/step\n"
          ]
        },
        {
          "output_type": "display_data",
          "data": {
            "text/plain": [
              "<Figure size 800x600 with 2 Axes>"
            ],
            "image/png": "[encoded data removed]"
          },
          "metadata": {}
        }
      ]
    },
    {
      "cell_type": "code",
      "source": [
        "# Print the classification report (Original Model)\n",
        "class_report_original = classification_report(y_test, binary_predictions, target_names=[\"No Flood\", \"Flood\"])\n",
        "print(\"Classification Report (Original Model):\\n\", class_report_original)"
      ],
      "metadata": {
        "colab": {
          "base_uri": "https://localhost:8080/"
        },
        "id": "9SQgDIWiVzS0",
        "outputId": "4538d839-24ce-47a1-9a97-33fa8fba4abb"
      },
      "execution_count": null,
      "outputs": [
        {
          "output_type": "stream",
          "name": "stdout",
          "text": [
            "Classification Report (Original Model):\n",
            "               precision    recall  f1-score   support\n",
            "\n",
            "    No Flood       0.65      0.80      0.72        70\n",
            "       Flood       0.88      0.77      0.82       130\n",
            "\n",
            "    accuracy                           0.78       200\n",
            "   macro avg       0.76      0.78      0.77       200\n",
            "weighted avg       0.80      0.78      0.78       200\n",
            "\n"
          ]
        }
      ]
    },
    {
      "cell_type": "code",
      "source": [
        "\n",
        "# Convert the input data for TensorFlow Lite\n",
        "input_data = np.array([[6.08908566, 21.0330808, 1.344351294]])\n",
        "input_data_scaled = scaler.transform(input_data)\n",
        "input_data_tflite = np.array(input_data_scaled, dtype=np.float32)\n",
        "\n",
        "# Load the TensorFlow Lite model and make predictions\n",
        "interpreter = tf.lite.Interpreter(model_content=tflite_model)\n",
        "interpreter.allocate_tensors()\n",
        "\n",
        "input_tensor_index = interpreter.get_input_details()[0]['index']\n",
        "output = interpreter.tensor(interpreter.get_output_details()[0]['index'])\n",
        "\n",
        "interpreter.set_tensor(input_tensor_index, input_data_tflite)\n",
        "interpreter.invoke()\n",
        "\n",
        "# Print the TensorFlow Lite model prediction\n",
        "tflite_prediction = output()[0]\n",
        "print(\"Flood (TFLite):\", \"Yes\" if tflite_prediction >= 0.5 else \"No\")\n",
        "print(f\"Model Accuracy Level (Test Data): {test_accuracy}\")"
      ],
      "metadata": {
        "colab": {
          "base_uri": "https://localhost:8080/"
        },
        "id": "JFRGGoN2V7pM",
        "outputId": "edd14aa1-a4ac-427f-f214-3021cb90957b"
      },
      "execution_count": null,
      "outputs": [
        {
          "output_type": "stream",
          "name": "stdout",
          "text": [
            "Flood (TFLite): No\n",
            "Model Accuracy Level (Test Data): 0.8199999928474426\n"
          ]
        },
        {
          "output_type": "stream",
          "name": "stderr",
          "text": [
            "/usr/local/lib/python3.10/dist-packages/sklearn/base.py:439: UserWarning: X does not have valid feature names, but StandardScaler was fitted with feature names\n",
            "  warnings.warn(\n"
          ]
        }
      ]
    }
  ]
}